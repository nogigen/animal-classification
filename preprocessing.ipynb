{
 "cells": [
  {
   "cell_type": "code",
   "execution_count": 1,
   "metadata": {},
   "outputs": [],
   "source": [
    "import os\n",
    "import torch\n",
    "import torch.nn as nn\n",
    "import torchvision\n",
    "from torchvision import transforms\n",
    "import torchvision.models as models\n",
    "from torchvision.datasets import ImageFolder\n",
    "from torch.utils.data import Dataset, DataLoader\n",
    "import matplotlib.pyplot as plt\n",
    "import numpy as np\n",
    "from collections import Counter\n",
    "from tqdm.notebook import tqdm\n",
    "from time import time"
   ]
  },
  {
   "cell_type": "code",
   "execution_count": 2,
   "metadata": {},
   "outputs": [],
   "source": [
    "device = torch.device(\"cpu\")"
   ]
  },
  {
   "cell_type": "code",
   "execution_count": 3,
   "metadata": {},
   "outputs": [],
   "source": [
    "root_dir = os.getcwd()\n",
    "dataset_dir = os.path.join(root_dir, \"raw-img\")"
   ]
  },
  {
   "cell_type": "code",
   "execution_count": 4,
   "metadata": {},
   "outputs": [],
   "source": [
    "fileToClass = {\"cane\": \"dog\", \n",
    "               \"cavallo\": \"horse\",\n",
    "               \"elefante\": \"elephant\",\n",
    "               \"farfalla\": \"butterfly\",\n",
    "               \"gallina\": \"chicken\",\n",
    "               \"gatto\": \"cat\",\n",
    "               \"mucca\": \"cow\",\n",
    "               \"pecora\": \"sheep\",\n",
    "               \"ragno\": \"spider\",\n",
    "               \"scoiattolo\": \"squirrel\"}\n",
    "\n",
    "classToNumber = {\"cane\": 0,\n",
    "                 \"cavallo\": 1,\n",
    "                 \"elefante\": 2,\n",
    "                 \"farfalla\": 3,\n",
    "                 \"gallina\": 4,\n",
    "                 \"gatto\": 5,\n",
    "                 \"mucca\": 6,\n",
    "                 \"pecora\": 7,\n",
    "                 \"ragno\": 8,\n",
    "                 \"scoiattolo\": 9}\n",
    "\n",
    "numberToClass = {\n",
    "                 0: \"dog\",\n",
    "                 1: \"horse\",\n",
    "                 2: \"elephant\",\n",
    "                 3: \"butterfly\",\n",
    "                 4: \"chicken\",\n",
    "                 5: \"cat\",\n",
    "                 6: \"cow\",\n",
    "                 7: \"sheep\",\n",
    "                 8: \"spider\",\n",
    "                 9: \"squirrel\"\n",
    "}"
   ]
  },
  {
   "cell_type": "code",
   "execution_count": 5,
   "metadata": {},
   "outputs": [
    {
     "name": "stdout",
     "output_type": "stream",
     "text": [
      "number of classes is : 10\n"
     ]
    }
   ],
   "source": [
    "num_classes = len(fileToClass)\n",
    "print(f\"number of classes is : {num_classes}\")"
   ]
  },
  {
   "cell_type": "code",
   "execution_count": 6,
   "metadata": {},
   "outputs": [],
   "source": [
    "model = models.vgg16(pretrained=True)"
   ]
  },
  {
   "cell_type": "code",
   "execution_count": 7,
   "metadata": {},
   "outputs": [
    {
     "data": {
      "text/plain": [
       "VGG(\n",
       "  (features): Sequential(\n",
       "    (0): Conv2d(3, 64, kernel_size=(3, 3), stride=(1, 1), padding=(1, 1))\n",
       "    (1): ReLU(inplace=True)\n",
       "    (2): Conv2d(64, 64, kernel_size=(3, 3), stride=(1, 1), padding=(1, 1))\n",
       "    (3): ReLU(inplace=True)\n",
       "    (4): MaxPool2d(kernel_size=2, stride=2, padding=0, dilation=1, ceil_mode=False)\n",
       "    (5): Conv2d(64, 128, kernel_size=(3, 3), stride=(1, 1), padding=(1, 1))\n",
       "    (6): ReLU(inplace=True)\n",
       "    (7): Conv2d(128, 128, kernel_size=(3, 3), stride=(1, 1), padding=(1, 1))\n",
       "    (8): ReLU(inplace=True)\n",
       "    (9): MaxPool2d(kernel_size=2, stride=2, padding=0, dilation=1, ceil_mode=False)\n",
       "    (10): Conv2d(128, 256, kernel_size=(3, 3), stride=(1, 1), padding=(1, 1))\n",
       "    (11): ReLU(inplace=True)\n",
       "    (12): Conv2d(256, 256, kernel_size=(3, 3), stride=(1, 1), padding=(1, 1))\n",
       "    (13): ReLU(inplace=True)\n",
       "    (14): Conv2d(256, 256, kernel_size=(3, 3), stride=(1, 1), padding=(1, 1))\n",
       "    (15): ReLU(inplace=True)\n",
       "    (16): MaxPool2d(kernel_size=2, stride=2, padding=0, dilation=1, ceil_mode=False)\n",
       "    (17): Conv2d(256, 512, kernel_size=(3, 3), stride=(1, 1), padding=(1, 1))\n",
       "    (18): ReLU(inplace=True)\n",
       "    (19): Conv2d(512, 512, kernel_size=(3, 3), stride=(1, 1), padding=(1, 1))\n",
       "    (20): ReLU(inplace=True)\n",
       "    (21): Conv2d(512, 512, kernel_size=(3, 3), stride=(1, 1), padding=(1, 1))\n",
       "    (22): ReLU(inplace=True)\n",
       "    (23): MaxPool2d(kernel_size=2, stride=2, padding=0, dilation=1, ceil_mode=False)\n",
       "    (24): Conv2d(512, 512, kernel_size=(3, 3), stride=(1, 1), padding=(1, 1))\n",
       "    (25): ReLU(inplace=True)\n",
       "    (26): Conv2d(512, 512, kernel_size=(3, 3), stride=(1, 1), padding=(1, 1))\n",
       "    (27): ReLU(inplace=True)\n",
       "    (28): Conv2d(512, 512, kernel_size=(3, 3), stride=(1, 1), padding=(1, 1))\n",
       "    (29): ReLU(inplace=True)\n",
       "    (30): MaxPool2d(kernel_size=2, stride=2, padding=0, dilation=1, ceil_mode=False)\n",
       "  )\n",
       "  (avgpool): AdaptiveAvgPool2d(output_size=(7, 7))\n",
       "  (classifier): Sequential(\n",
       "    (0): Linear(in_features=25088, out_features=4096, bias=True)\n",
       "    (1): ReLU(inplace=True)\n",
       "    (2): Dropout(p=0.5, inplace=False)\n",
       "    (3): Linear(in_features=4096, out_features=4096, bias=True)\n",
       "    (4): ReLU(inplace=True)\n",
       "    (5): Dropout(p=0.5, inplace=False)\n",
       "    (6): Linear(in_features=4096, out_features=1000, bias=True)\n",
       "  )\n",
       ")"
      ]
     },
     "execution_count": 7,
     "metadata": {},
     "output_type": "execute_result"
    }
   ],
   "source": [
    "model"
   ]
  },
  {
   "cell_type": "code",
   "execution_count": 8,
   "metadata": {},
   "outputs": [],
   "source": [
    "model.classifier = nn.Sequential(*list(model.classifier.children())[:-3])"
   ]
  },
  {
   "cell_type": "code",
   "execution_count": 9,
   "metadata": {},
   "outputs": [
    {
     "data": {
      "text/plain": [
       "VGG(\n",
       "  (features): Sequential(\n",
       "    (0): Conv2d(3, 64, kernel_size=(3, 3), stride=(1, 1), padding=(1, 1))\n",
       "    (1): ReLU(inplace=True)\n",
       "    (2): Conv2d(64, 64, kernel_size=(3, 3), stride=(1, 1), padding=(1, 1))\n",
       "    (3): ReLU(inplace=True)\n",
       "    (4): MaxPool2d(kernel_size=2, stride=2, padding=0, dilation=1, ceil_mode=False)\n",
       "    (5): Conv2d(64, 128, kernel_size=(3, 3), stride=(1, 1), padding=(1, 1))\n",
       "    (6): ReLU(inplace=True)\n",
       "    (7): Conv2d(128, 128, kernel_size=(3, 3), stride=(1, 1), padding=(1, 1))\n",
       "    (8): ReLU(inplace=True)\n",
       "    (9): MaxPool2d(kernel_size=2, stride=2, padding=0, dilation=1, ceil_mode=False)\n",
       "    (10): Conv2d(128, 256, kernel_size=(3, 3), stride=(1, 1), padding=(1, 1))\n",
       "    (11): ReLU(inplace=True)\n",
       "    (12): Conv2d(256, 256, kernel_size=(3, 3), stride=(1, 1), padding=(1, 1))\n",
       "    (13): ReLU(inplace=True)\n",
       "    (14): Conv2d(256, 256, kernel_size=(3, 3), stride=(1, 1), padding=(1, 1))\n",
       "    (15): ReLU(inplace=True)\n",
       "    (16): MaxPool2d(kernel_size=2, stride=2, padding=0, dilation=1, ceil_mode=False)\n",
       "    (17): Conv2d(256, 512, kernel_size=(3, 3), stride=(1, 1), padding=(1, 1))\n",
       "    (18): ReLU(inplace=True)\n",
       "    (19): Conv2d(512, 512, kernel_size=(3, 3), stride=(1, 1), padding=(1, 1))\n",
       "    (20): ReLU(inplace=True)\n",
       "    (21): Conv2d(512, 512, kernel_size=(3, 3), stride=(1, 1), padding=(1, 1))\n",
       "    (22): ReLU(inplace=True)\n",
       "    (23): MaxPool2d(kernel_size=2, stride=2, padding=0, dilation=1, ceil_mode=False)\n",
       "    (24): Conv2d(512, 512, kernel_size=(3, 3), stride=(1, 1), padding=(1, 1))\n",
       "    (25): ReLU(inplace=True)\n",
       "    (26): Conv2d(512, 512, kernel_size=(3, 3), stride=(1, 1), padding=(1, 1))\n",
       "    (27): ReLU(inplace=True)\n",
       "    (28): Conv2d(512, 512, kernel_size=(3, 3), stride=(1, 1), padding=(1, 1))\n",
       "    (29): ReLU(inplace=True)\n",
       "    (30): MaxPool2d(kernel_size=2, stride=2, padding=0, dilation=1, ceil_mode=False)\n",
       "  )\n",
       "  (avgpool): AdaptiveAvgPool2d(output_size=(7, 7))\n",
       "  (classifier): Sequential(\n",
       "    (0): Linear(in_features=25088, out_features=4096, bias=True)\n",
       "    (1): ReLU(inplace=True)\n",
       "    (2): Dropout(p=0.5, inplace=False)\n",
       "    (3): Linear(in_features=4096, out_features=4096, bias=True)\n",
       "  )\n",
       ")"
      ]
     },
     "execution_count": 9,
     "metadata": {},
     "output_type": "execute_result"
    }
   ],
   "source": [
    "model"
   ]
  },
  {
   "cell_type": "code",
   "execution_count": 10,
   "metadata": {},
   "outputs": [],
   "source": [
    "input_size = 224\n",
    "tensor_transform = transforms.Compose([\n",
    "            transforms.Resize((input_size,input_size)),\n",
    "            transforms.ToTensor()])\n",
    "    \n",
    "dataset = ImageFolder(dataset_dir, tensor_transform)\n",
    "\n",
    "imgPaths = dataset.imgs"
   ]
  },
  {
   "cell_type": "code",
   "execution_count": 11,
   "metadata": {},
   "outputs": [
    {
     "name": "stdout",
     "output_type": "stream",
     "text": [
      "sanity check\n",
      "{0: 4863, 1: 2623, 2: 1446, 3: 2112, 4: 3098, 5: 1668, 6: 1866, 7: 1820, 8: 4821, 9: 1862}\n",
      "number of class is : 10\n",
      "total number of image is : 26179\n"
     ]
    }
   ],
   "source": [
    "print(\"sanity check\")\n",
    "counterDict = dict(Counter(dataset.targets))\n",
    "print(counterDict)\n",
    "print(f\"number of class is : {len(counterDict)}\")\n",
    "\n",
    "noOfData = 0\n",
    "for key in counterDict.keys():\n",
    "    noOfData += counterDict[key]\n",
    "\n",
    "print(f\"total number of image is : {noOfData}\")"
   ]
  },
  {
   "cell_type": "code",
   "execution_count": 12,
   "metadata": {},
   "outputs": [
    {
     "name": "stdout",
     "output_type": "stream",
     "text": [
      "==> Computing mean and std..\n"
     ]
    },
    {
     "data": {
      "application/vnd.jupyter.widget-view+json": {
       "model_id": "f1f0849517324485baac38bad8d678b5",
       "version_major": 2,
       "version_minor": 0
      },
      "text/plain": [
       "  0%|          | 0/26179 [00:00<?, ?it/s]"
      ]
     },
     "metadata": {},
     "output_type": "display_data"
    },
    {
     "name": "stdout",
     "output_type": "stream",
     "text": [
      "tensor([0.5177, 0.5003, 0.4126]) tensor([0.2135, 0.2130, 0.2151])\n",
      "time elapsed:  401.4749870300293\n"
     ]
    }
   ],
   "source": [
    "loader = DataLoader(dataset=dataset, shuffle=True, num_workers=os.cpu_count())\n",
    "\n",
    "N_CHANNELS = 3\n",
    "\n",
    "before = time()\n",
    "mean = torch.zeros(3)\n",
    "std = torch.zeros(3)\n",
    "print('==> Computing mean and std..')\n",
    "for inputs, _labels in tqdm(loader):\n",
    "    for i in range(N_CHANNELS):\n",
    "        mean[i] += inputs[:,i,:,:].mean()\n",
    "        std[i] += inputs[:,i,:,:].std()\n",
    "mean.div_(len(dataset))\n",
    "std.div_(len(dataset))\n",
    "print(mean, std)\n",
    "\n",
    "print(\"time elapsed: \", time()-before)"
   ]
  },
  {
   "cell_type": "code",
   "execution_count": 13,
   "metadata": {},
   "outputs": [
    {
     "name": "stdout",
     "output_type": "stream",
     "text": [
      "[3890, 2098, 1156, 1689, 2478, 1334, 1492, 1456, 3856, 1489]\n",
      "[973, 525, 290, 423, 620, 334, 374, 364, 965, 373]\n"
     ]
    }
   ],
   "source": [
    "trainPercentage = 0.8\n",
    "testPercentage = 1 - trainPercentage\n",
    "\n",
    "trainCounts = []\n",
    "testCounts = []\n",
    "for key in counterDict.keys():\n",
    "    number = int(trainPercentage * counterDict[key])\n",
    "    trainCounts.append(number)\n",
    "    testCounts.append(counterDict[key] - number)\n",
    "\n",
    "print(trainCounts)\n",
    "print(testCounts)                                          "
   ]
  },
  {
   "cell_type": "code",
   "execution_count": 14,
   "metadata": {},
   "outputs": [
    {
     "data": {
      "image/png": "[encoded data removed]",
      "text/plain": [
       "<Figure size 1440x360 with 2 Axes>"
      ]
     },
     "metadata": {},
     "output_type": "display_data"
    }
   ],
   "source": [
    "classes = [numberToClass[i] for i in range(num_classes)]\n",
    "\n",
    "fig = plt.figure(figsize = (20, 5))\n",
    "\n",
    "plt.subplot(1, 2, 1)\n",
    "# creating the bar plot\n",
    "plt.bar(classes, trainCounts, color ='maroon',\n",
    "        width = 0.4)\n",
    " \n",
    "plt.xlabel(\"Classes\")\n",
    "plt.ylabel(\"No. of images\")\n",
    "plt.title(\"Images per class for train set\")\n",
    "\n",
    "plt.subplot(1, 2, 2)\n",
    "plt.bar(classes, testCounts, color ='maroon',\n",
    "        width = 0.4)\n",
    " \n",
    "plt.xlabel(\"Classes\")\n",
    "plt.ylabel(\"No. of images\")\n",
    "plt.title(\"Images per class for test set\")\n",
    "\n",
    "plt.show()"
   ]
  },
  {
   "cell_type": "code",
   "execution_count": 15,
   "metadata": {},
   "outputs": [
    {
     "name": "stdout",
     "output_type": "stream",
     "text": [
      "[2500, 2098, 1156, 1689, 2478, 1334, 1492, 1456, 2500, 1489]\n",
      "[624, 525, 290, 423, 620, 334, 374, 364, 624, 373]\n"
     ]
    }
   ],
   "source": [
    "# trim from 2500 to make it more balanced.\n",
    "\n",
    "newTrainCounts = []\n",
    "newTestCounts = []\n",
    "trimValue = 2500\n",
    "for key in counterDict.keys():\n",
    "    number = int(trainPercentage * counterDict[key])\n",
    "    if number > trimValue:\n",
    "        newTrainCounts.append(trimValue)\n",
    "        newTestCounts.append(int(trimValue * (testPercentage / trainPercentage)))\n",
    "\n",
    "    else:\n",
    "        newTrainCounts.append(number)\n",
    "        newTestCounts.append(counterDict[key] - number)\n",
    "\n",
    "print(newTrainCounts)\n",
    "print(newTestCounts)   "
   ]
  },
  {
   "cell_type": "code",
   "execution_count": 16,
   "metadata": {},
   "outputs": [],
   "source": [
    "mean = [0.5177, 0.5003, 0.4126]\n",
    "std = [0.2135, 0.2130, 0.2151]\n",
    "\n",
    "tensor_transform = transforms.Compose([\n",
    "            transforms.Resize((input_size,input_size)),\n",
    "            transforms.ToTensor(),\n",
    "            transforms.Normalize(torch.Tensor(mean),\n",
    "                                 torch.Tensor(std))])\n",
    "    \n",
    "dataset = ImageFolder(dataset_dir, tensor_transform)\n",
    "\n",
    "loader = DataLoader(dataset=dataset, batch_size = 1, shuffle=False, num_workers=os.cpu_count())"
   ]
  },
  {
   "cell_type": "code",
   "execution_count": 17,
   "metadata": {},
   "outputs": [
    {
     "data": {
      "application/vnd.jupyter.widget-view+json": {
       "model_id": "64fbf217bfb5446889eda0862646ad56",
       "version_major": 2,
       "version_minor": 0
      },
      "text/plain": [
       "  0%|          | 0/26179 [00:00<?, ?it/s]"
      ]
     },
     "metadata": {},
     "output_type": "display_data"
    },
    {
     "name": "stdout",
     "output_type": "stream",
     "text": [
      "(26179, 4096)\n",
      "(26179, 1)\n"
     ]
    }
   ],
   "source": [
    "data = np.empty(shape=[noOfData, 4096])\n",
    "labels = np.empty(shape=[noOfData, 1])\n",
    "\n",
    "with torch.no_grad():\n",
    "    for i,(image, label) in enumerate(tqdm(loader)):\n",
    "        output = model(image)\n",
    "        data[i] = output.detach().numpy()    \n",
    "        labels[i] = label\n",
    "        \n",
    "\n",
    "print(data.shape)\n",
    "print(labels.shape)"
   ]
  },
  {
   "cell_type": "code",
   "execution_count": 18,
   "metadata": {},
   "outputs": [],
   "source": [
    "with open('data.npy', 'wb') as f:\n",
    "    np.save(f, data)\n",
    "    \n",
    "with open('labels.npy', 'wb') as f:\n",
    "    np.save(f, labels)"
   ]
  },
  {
   "cell_type": "code",
   "execution_count": 19,
   "metadata": {},
   "outputs": [],
   "source": [
    "trainX = np.empty(shape=[sum(newTrainCounts), 4096])\n",
    "trainY = np.empty(shape=[sum(newTrainCounts), 1])\n",
    "testX = np.empty(shape=[sum(newTestCounts), 4096])\n",
    "testY = np.empty(shape=[sum(newTestCounts), 1])\n",
    "\n",
    "trainPaths = []\n",
    "testPaths = []\n",
    "pathIndex = 0\n",
    "\n",
    "trainIndex = 0\n",
    "testIndex = 0\n",
    "numberOfTrainSamples = [0 for i in range(num_classes)]\n",
    "numberOfTestSamples = [0 for i in range(num_classes)]\n",
    "\n",
    "for i in range(len(data)):\n",
    "    label = int(labels[i])\n",
    "    if numberOfTrainSamples[label] == newTrainCounts[label]:\n",
    "        if numberOfTestSamples[label] != newTestCounts[label]:\n",
    "            testX[testIndex] = data[i]\n",
    "            testY[testIndex] = labels[i]\n",
    "\n",
    "            testIndex += 1\n",
    "            \n",
    "            numberOfTestSamples[label] += 1      \n",
    "            \n",
    "            testPaths.append(imgPaths[pathIndex][0])\n",
    "            \n",
    "    else:\n",
    "        trainX[trainIndex] = data[i]\n",
    "        trainY[trainIndex] = labels[i]\n",
    "        \n",
    "        trainIndex += 1\n",
    "        \n",
    "        numberOfTrainSamples[label] += 1\n",
    "        \n",
    "        trainPaths.append(imgPaths[pathIndex][0])\n",
    "        \n",
    "    \n",
    "    pathIndex += 1"
   ]
  },
  {
   "cell_type": "code",
   "execution_count": 20,
   "metadata": {},
   "outputs": [
    {
     "name": "stdout",
     "output_type": "stream",
     "text": [
      "frequency count of trainY [2500 2098 1156 1689 2478 1334 1492 1456 2500 1489]\n",
      "frequency count of wanted trainY [2500, 2098, 1156, 1689, 2478, 1334, 1492, 1456, 2500, 1489]\n",
      "--------------\n",
      "frequency count of testy [624 525 290 423 620 334 374 364 624 373]\n",
      "frequency count of wanted testY [624, 525, 290, 423, 620, 334, 374, 364, 624, 373]\n"
     ]
    }
   ],
   "source": [
    "(uniqueTrain, countsTrain) = np.unique(trainY, return_counts=True)\n",
    "print(f\"frequency count of trainY {countsTrain}\")\n",
    "print(f\"frequency count of wanted trainY {newTrainCounts}\")\n",
    "print(\"--------------\")\n",
    "(uniqueTest, countsTest) = np.unique(testY, return_counts=True)\n",
    "print(f\"frequency count of testy {countsTest}\")\n",
    "print(f\"frequency count of wanted testY {newTestCounts}\")"
   ]
  },
  {
   "cell_type": "code",
   "execution_count": 21,
   "metadata": {},
   "outputs": [
    {
     "name": "stdout",
     "output_type": "stream",
     "text": [
      "distribution of class 0 - train : 0.80 , test : 0.20\n",
      "distribution of class 1 - train : 0.80 , test : 0.20\n",
      "distribution of class 2 - train : 0.80 , test : 0.20\n",
      "distribution of class 3 - train : 0.80 , test : 0.20\n",
      "distribution of class 4 - train : 0.80 , test : 0.20\n",
      "distribution of class 5 - train : 0.80 , test : 0.20\n",
      "distribution of class 6 - train : 0.80 , test : 0.20\n",
      "distribution of class 7 - train : 0.80 , test : 0.20\n",
      "distribution of class 8 - train : 0.80 , test : 0.20\n",
      "distribution of class 9 - train : 0.80 , test : 0.20\n"
     ]
    }
   ],
   "source": [
    "for i in range(len(countsTrain)):\n",
    "    allData = countsTrain[i] + countsTest[i]\n",
    "    print(f\"distribution of class {i} - train : {countsTrain[i]/allData:.2f} , test : {countsTest[i]/allData:.2f}\")"
   ]
  },
  {
   "cell_type": "code",
   "execution_count": 22,
   "metadata": {},
   "outputs": [
    {
     "data": {
      "image/png": "[encoded data removed]",
      "text/plain": [
       "<Figure size 1440x360 with 2 Axes>"
      ]
     },
     "metadata": {},
     "output_type": "display_data"
    },
    {
     "name": "stdout",
     "output_type": "stream",
     "text": [
      "number of images in train set: 18192\n",
      "number of images in test set: 4551\n"
     ]
    }
   ],
   "source": [
    "classes = [numberToClass[i] for i in range(num_classes)]\n",
    "\n",
    "fig = plt.figure(figsize = (20, 5))\n",
    "\n",
    "plt.subplot(1, 2, 1)\n",
    "# creating the bar plot\n",
    "plt.bar(classes, countsTrain, color ='maroon',\n",
    "        width = 0.4)\n",
    " \n",
    "plt.xlabel(\"Classes\")\n",
    "plt.ylabel(\"No. of images\")\n",
    "plt.title(\"Images per class for train set\")\n",
    "\n",
    "plt.subplot(1, 2, 2)\n",
    "plt.bar(classes, countsTest, color ='maroon',\n",
    "        width = 0.4)\n",
    " \n",
    "plt.xlabel(\"Classes\")\n",
    "plt.ylabel(\"No. of images\")\n",
    "plt.title(\"Images per class for test set\")\n",
    "\n",
    "plt.show()\n",
    "\n",
    "print(f\"number of images in train set: {trainX.shape[0]}\")\n",
    "print(f\"number of images in test set: {testX.shape[0]}\")"
   ]
  },
  {
   "cell_type": "code",
   "execution_count": 38,
   "metadata": {},
   "outputs": [],
   "source": [
    "with open('trainX.npy', 'wb') as f:\n",
    "    np.save(f, trainX)\n",
    "    \n",
    "with open('trainY.npy', 'wb') as f:\n",
    "    np.save(f, trainY)\n",
    "    \n",
    "with open('testX.npy', 'wb') as f:\n",
    "    np.save(f, testX)\n",
    "    \n",
    "with open('testY.npy', 'wb') as f:\n",
    "    np.save(f, testY)\n",
    "    \n",
    "with open(\"testPaths.txt\", \"w\") as f:\n",
    "    for i in range(len(testPaths)):\n",
    "        f.write(testPaths[i] + \"\\n\")\n",
    "        \n",
    "with open(\"trainPaths.txt\", \"w\") as f:\n",
    "    for i in range(len(trainPaths)):\n",
    "        f.write(trainPaths[i] + \"\\n\")"
   ]
  },
  {
   "cell_type": "code",
   "execution_count": null,
   "metadata": {},
   "outputs": [],
   "source": []
  }
 ],
 "metadata": {
  "kernelspec": {
   "display_name": "Python 3",
   "language": "python",
   "name": "python3"
  },
  "language_info": {
   "codemirror_mode": {
    "name": "ipython",
    "version": 3
   },
   "file_extension": ".py",
   "mimetype": "text/x-python",
   "name": "python",
   "nbconvert_exporter": "python",
   "pygments_lexer": "ipython3",
   "version": "3.6.5"
  }
 },
 "nbformat": 4,
 "nbformat_minor": 2
}
